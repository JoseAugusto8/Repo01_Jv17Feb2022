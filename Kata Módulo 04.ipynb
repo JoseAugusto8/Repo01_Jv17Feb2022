{
 "cells": [
  {
   "cell_type": "markdown",
   "metadata": {},
   "source": [
    "# Kata del Módulo 4"
   ]
  },
  {
   "cell_type": "code",
   "execution_count": 1,
   "metadata": {},
   "outputs": [],
   "source": [
    "text = \"\"\"Interesting facts about the Moon. The Moon is Earth's only satellite. \n",
    "     There are several interesting facts about the Moon and how it affects life here on Earth. \n",
    "     When sunlight hits the moon's surface, the temperature can reach 260 degrees Fahrenheit (127 degrees Celsius). \n",
    "     When the sun goes down, temperatures can dip to minus 280 F (minus 173 C).\n",
    "    On average, the Moon moves 4 cm away from the Earth every year. \n",
    "    The moon's orbit around Earth is elliptical. \n",
    "    At perigee — its closest approach — the moon comes as close as 225623 ,miles distance (363,104 kilometers). \n",
    "    At apogee — the farthest away it gets — the moon is 252088 ,miles distance (405,696 km) from Earth. \n",
    "    On average, the distance from Earth to the moon is about 238855 ,miles (384,400 km). \n",
    "    According to NASA, \"That means 30 Earth-sized planets could fit in between Earth and the moon.\n",
    "    This yearly drift is not significant enough to cause immediate effects o\"\"\""
   ]
  },
  {
   "cell_type": "code",
   "execution_count": 2,
   "metadata": {},
   "outputs": [],
   "source": [
    "text_parts = text.split('.')"
   ]
  },
  {
   "cell_type": "code",
   "execution_count": 3,
   "metadata": {},
   "outputs": [
    {
     "name": "stdout",
     "output_type": "stream",
     "text": [
      "4\n",
      "238855\n"
     ]
    }
   ],
   "source": [
    "# En este bloque defino la palabra clave «average» y ordeno que se busque en cada oración y que se impriman \n",
    "# los resultados numéricos asociados si se encuentran en alguna oración.  \n",
    "\n",
    "if 'average' in text_parts[1]:\n",
    "    for item_aver1 in text_parts[1].split(): #  \n",
    "        if item_aver1.isnumeric():\n",
    "            print(item_aver1)\n",
    "\n",
    "if 'average' in text_parts[2]:\n",
    "    for item_aver2 in text_parts[2].split(): #  \n",
    "        if item_aver2.isnumeric():\n",
    "            print(item_aver2)\n",
    "\n",
    "if 'average' in text_parts[3]:\n",
    "    for item_aver3 in text_parts[3].split(): #  \n",
    "        if item_aver3.isnumeric():\n",
    "            print(item_aver3)\n",
    "\n",
    "if 'average' in text_parts[4]:\n",
    "    for item_aver4 in text_parts[4].split(): #  \n",
    "        if item_aver4.isnumeric():\n",
    "            print(item_aver4)\n",
    "\n",
    "\n",
    "if 'average' in text_parts[5]:\n",
    "    for item_aver5 in text_parts[5].split(): #  \n",
    "        if item_aver5.isnumeric():\n",
    "            print(item_aver5)\n",
    "\n",
    "if 'average' in text_parts[6]:\n",
    "    for item_aver6 in text_parts[6].split(): #  \n",
    "        if item_aver6.isnumeric():\n",
    "            print(item_aver6)\n",
    "\n",
    "if 'average' in text_parts[7]:\n",
    "    for item_aver7 in text_parts[7].split(): #  \n",
    "        if item_aver7.isnumeric():\n",
    "            print(item_aver7)\n",
    "\n",
    "if 'average' in text_parts[8]:\n",
    "    for item_ave8r in text_parts[8].split(): #  \n",
    "        if item_aver8.isnumeric():\n",
    "            print(item_aver8)\n",
    "\n",
    "if 'average' in text_parts[9]:\n",
    "    for item_aver9 in text_parts[9].split(): #  \n",
    "        if item_aver9.isnumeric():\n",
    "            print(item_aver9)\n",
    "\n",
    "if 'average' in text_parts[10]:\n",
    "    for item_aver10 in text_parts[10].split(): #  \n",
    "        if item_aver10.isnumeric():\n",
    "            print(item_aver10)\n",
    "\n",
    "if 'average' in text_parts[11]:\n",
    "    for item_aver11 in text_parts[11].split(): #  \n",
    "        if item_aver11.isnumeric():\n",
    "            print(item_aver11)\n"
   ]
  },
  {
   "cell_type": "code",
   "execution_count": 4,
   "metadata": {},
   "outputs": [
    {
     "name": "stdout",
     "output_type": "stream",
     "text": [
      "260\n",
      "280\n",
      "173\n"
     ]
    }
   ],
   "source": [
    "# En este bloque defino la palabra clave «temperature» y ordeno que se busque en cada oración y que se impriman \n",
    "# los resultados numéricos asociados si se encuentran en alguna oración.  \n",
    "\n",
    "if ('temperature' or 'temperatures') in text_parts[1]:\n",
    "    for item_temp1 in text_parts[1].split(): #  \n",
    "        if item_temp1.isnumeric():\n",
    "            print(item_temp1)\n",
    "\n",
    "if ('temperature' or 'temperatures') in text_parts[2]:\n",
    "    for item_temp2 in text_parts[2].split(): #  \n",
    "        if item_temp2.isnumeric():\n",
    "            print(item_temp2)\n",
    "\n",
    "if ('temperature' or 'temperatures') in text_parts[3]:\n",
    "    for item_temp3 in text_parts[3].split(): #  \n",
    "        if item_temp3.isnumeric():\n",
    "            print(item_temp3)\n",
    "\n",
    "if ('temperature' or 'temperatures') in text_parts[4]:\n",
    "    for item_temp4 in text_parts[4].split(): #  \n",
    "        if item_temp4.isnumeric():\n",
    "            print(item_temp4)\n",
    "\n",
    "if ('temperature' or 'temperatures') in text_parts[5]:\n",
    "    for item_temp5 in text_parts[5].split(): #  \n",
    "        if item_temp5.isnumeric():\n",
    "            print(item_temp5)\n",
    "\n",
    "if ('temperature' or 'temperatures') in text_parts[6]:\n",
    "    for item_temp6 in text_parts[6].split(): #  \n",
    "        if item_temp6.isnumeric():\n",
    "            print(item_temp6)\n",
    "\n",
    "if ('temperature' or 'temperatures') in text_parts[7]:\n",
    "    for item_temp7 in text_parts[7].split(): #  \n",
    "        if item_temp7.isnumeric():\n",
    "            print(item_temp7)\n",
    "\n",
    "if ('temperature' or 'temperatures') in text_parts[8]:\n",
    "    for item_temp8 in text_parts[8].split(): #  \n",
    "        if item_temp8.isnumeric():\n",
    "            print(item_temp8)\n",
    "\n",
    "if ('temperature' or 'temperatures') in text_parts[9]:\n",
    "    for item_temp9 in text_parts[9].split(): #  \n",
    "        if item_temp9.isnumeric():\n",
    "            print(item_temp9)\n",
    "\n",
    "if (')temperature' or 'temperatures') in text_parts[10]:\n",
    "    for item_temp10 in text_parts[10].split(): #  \n",
    "        if item_temp10.isnumeric():\n",
    "            print(item_temp10)\n",
    "\n",
    "if ('temperature' or 'temperatures') in text_parts[11]:\n",
    "    for item_temp11 in text_parts[11].split(): #  \n",
    "        if item_temp11.isnumeric():\n",
    "            print(item_temp11)\n",
    "\n"
   ]
  },
  {
   "cell_type": "code",
   "execution_count": 7,
   "metadata": {},
   "outputs": [
    {
     "name": "stdout",
     "output_type": "stream",
     "text": [
      "225623\n",
      "252088\n",
      "238855\n"
     ]
    }
   ],
   "source": [
    "\n",
    "if 'distance' in text_parts[2]: \n",
    "    for item_dist2 in text_parts[2].split():\n",
    "        if item_dist2.isnumeric():\n",
    "            print(item_dist2)\n",
    "\n",
    "if 'distance' in text_parts[3]: \n",
    "    for item_dist3 in text_parts[3].split():\n",
    "        if item_dist3.isnumeric():\n",
    "            print(item_dist3)\n",
    "\n",
    "if 'distance' in text_parts[4]: \n",
    "    for item_dist4 in text_parts[4].split():\n",
    "        if item_dist4.isnumeric():\n",
    "            print(item_dist4)\n",
    "\n",
    "if 'distance' in text_parts[5]: \n",
    "    for item_dist5 in text_parts[5].split():\n",
    "        if item_dist5.isnumeric():\n",
    "            print(item_dist5)\n",
    "\n",
    "if 'distance' in text_parts[6]:\n",
    "    for item_dist6 in text_parts[6].split():\n",
    "        if item_dist6.isnumeric():\n",
    "            print(item_dist6)\n",
    "\n",
    "if 'distance' in text_parts[7]:\n",
    "    for item_dist7 in text_parts[7].split():\n",
    "        if item_dist7.isnumeric():\n",
    "            print(item_dist7)\n",
    "\n",
    "if 'distance' in text_parts[8]:\n",
    "    for item_dist8 in text_parts[8].split():\n",
    "        if item_dist8.isnumeric():\n",
    "            print(item_dist8)\n",
    "\n",
    "if 'distance' in text_parts[9]:\n",
    "    for item_dist9 in text_parts[9].split():\n",
    "        if item_dist9.isnumeric():\n",
    "            print(item_dist9)\n",
    "\n",
    "if 'distance' in text_parts[10]: \n",
    "    for item_dist10 in text_parts[10].split():\n",
    "        if item_dist10.isnumeric():\n",
    "            print(item_dist10)\n",
    "\n",
    "if 'distance' in text_parts[11]: \n",
    "    for item_dist11 in text_parts[11].split():\n",
    "        if item_dist11.isnumeric():\n",
    "            print(item_dist11)"
   ]
  },
  {
   "cell_type": "code",
   "execution_count": null,
   "metadata": {},
   "outputs": [],
   "source": []
  }
 ],
 "metadata": {
  "interpreter": {
   "hash": "c43467d7724bf66324b8fc28307a5d152c3b9d6df7922a7789cf7d831913d408"
  },
  "kernelspec": {
   "display_name": "Python 3.9.10 64-bit",
   "language": "python",
   "name": "python3"
  },
  "language_info": {
   "codemirror_mode": {
    "name": "ipython",
    "version": 3
   },
   "file_extension": ".py",
   "mimetype": "text/x-python",
   "name": "python",
   "nbconvert_exporter": "python",
   "pygments_lexer": "ipython3",
   "version": "3.9.10"
  },
  "orig_nbformat": 4
 },
 "nbformat": 4,
 "nbformat_minor": 2
}
