{
 "cells": [
  {
   "cell_type": "code",
   "execution_count": 4,
   "metadata": {},
   "outputs": [
    {
     "name": "stdout",
     "output_type": "stream",
     "text": [
      "ENVIANDO SEÑAL DE ALERTA A LA ESTACIÓN ESPACIAL\n"
     ]
    }
   ],
   "source": [
    "# Este programa va a lanzar una advertencia por la velocidad de un asteroide\n",
    "v = input(\"Ingrese la velocidad del asteroide: \") # Velocidad del Asteroide [Km/s]\n",
    "if int(v) < 25:\n",
    "    print(\"No hay motivo de alarma: Todo Tranqui\")\n",
    "elif int(v) == 25:\n",
    "    print(\"Continue momitoreando al asteroide desde el satélite\")\n",
    "else: \n",
    "    print(\"ENVIANDO SEÑAL DE ALERTA A LA ESTACIÓN ESPACIAL\") "
   ]
  },
  {
   "cell_type": "code",
   "execution_count": 8,
   "metadata": {},
   "outputs": [
    {
     "name": "stdout",
     "output_type": "stream",
     "text": [
      "ENVIANDO SEÑAL DE ALERTA A TODO EL MUNDO PARA BUSCAR UN RAYO DE LUZ DEBIDO A UN ASTEROIDE\n"
     ]
    }
   ],
   "source": [
    "# Este código va a avisar del ingreso de un asteroide a la Tierra\n",
    "v_ingre = input(\"Ingrese la velocidad de ingreso del asteroide:\") # Velocidad del Asteroide [Km/s]\n",
    "if int(v_ingre) < 20: \n",
    "    print(\"Continue observación y No envié señal de alarma\")\n",
    "elif int(v_ingre) == 20: \n",
    "    print(\"Mantenga su mano en el botón de alerta para el mundo\")\n",
    "else:\n",
    "    print(\"ENVIANDO SEÑAL DE ALERTA A TODO EL MUNDO PARA BUSCAR UN RAYO DE LUZ DEBIDO A UN ASTEROIDE\")  "
   ]
  },
  {
   "cell_type": "code",
   "execution_count": 13,
   "metadata": {},
   "outputs": [
    {
     "name": "stdout",
     "output_type": "stream",
     "text": [
      "ENVIANDO SEÑAL DE ALERTA A TODO EL MUNDO por peligro de colisión de Asteroide: \n"
     ]
    }
   ],
   "source": [
    "# Alerta General de velocidad y tamaño de un Asteroide hacia la Tierra ------Ver 1.0\n",
    "Tt = input(\"Ingrese el tañaño de la dimensión más grande del Asteroide\") # Tamaño del Asteroide [m]\n",
    "\n",
    "if int(Tt) < 25: \n",
    "    print(\"No hay inconveniente porque se va a quemar en su ingreso al planeta\")\n",
    "\n",
    "elif int(Tt) == 25 and int(Tt) < 1000:\n",
    "\n",
    "    v_ingre = input(\"Indique la velocidad de ingreso del asteroide:\") # Velocidad del Asteroide [Km/s]\n",
    "    if int(v_ingre) < 25: \n",
    "        print(\"Continue observación y No envié señal de alarma\")\n",
    "    elif int(v_ingre) == 20: \n",
    "        print(\"Mantenga su mano en el botón de alerta para el mundo\")\n",
    "    else:\n",
    "        print(\"ENVIANDO SEÑAL DE ALERTA A TODO EL MUNDO PARA BUSCAR UN RAYO DE LUZ DEBIDO A UN ASTEROIDE\")  \n",
    "\n",
    "else : # Aquí había colocado esta condición int(Tt) > 1000, pero marcaba error: En conclusión else va solito con los ':'.\n",
    "    print(\"ENVIANDO SEÑAL DE ALERTA A TODO EL MUNDO por peligro de colisión de Asteroide: \") \n",
    "   "
   ]
  },
  {
   "cell_type": "code",
   "execution_count": null,
   "metadata": {},
   "outputs": [],
   "source": [
    "# ingresando primero Tamaño y velocidad y así ya realizo tabla de riesgo\n",
    "Tt = input(\"Ingrese el tañaño de la dimensión más grande del Asteroide: \") # Tamaño del Asteroide [m]\n",
    "v = input(\"Indique la velocidad del Asteroide: \") # Velocidad del Asteroide [Km/s]\n",
    " \n",
    "\n",
    "if int(Tt) > 25 or int(v) > 25:\n",
    "    print(\"El Asteroide pone en peligro al planeta\")\n",
    "\n",
    "elif int(Tt) < 25 and int(v) < 25:\n",
    "    print(\"El Asteroide No es de cuidado debido a su tamaño y velocidad\")\n",
    "\n",
    "elif int(Tt) == 25 and int(v) < 25:\n",
    "    v_ingre = input(\"Indique la velocidad de ingreso del asteroide: \")\n",
    "    if int(v_ingre) < 20: \n",
    "        print(\"El Asteroide va a pasar imperceptible y No representa peligro\")\n",
    "    elif int(v_ingre) == 20:\n",
    "        print(\"El Asteroide debe continuar en monitoreo\")\n",
    "    else: # Significa entonces que el Asteroide va a ingresar a una vel. Mayor a 20[Km/s] \n",
    "        print(\"Avisar a Todo el mundo que un Asteroide va a producir una luz en el Cielo\")  \n",
    "\n",
    "else:\n",
    "    print(\"¿Qué condición o valores pueden hacer que el programa llegue a este punto?\")     "
   ]
  }
 ],
 "metadata": {
  "interpreter": {
   "hash": "c43467d7724bf66324b8fc28307a5d152c3b9d6df7922a7789cf7d831913d408"
  },
  "kernelspec": {
   "display_name": "Python 3.9.10 64-bit",
   "language": "python",
   "name": "python3"
  },
  "language_info": {
   "codemirror_mode": {
    "name": "ipython",
    "version": 3
   },
   "file_extension": ".py",
   "mimetype": "text/x-python",
   "name": "python",
   "nbconvert_exporter": "python",
   "pygments_lexer": "ipython3",
   "version": "3.9.10"
  },
  "orig_nbformat": 4
 },
 "nbformat": 4,
 "nbformat_minor": 2
}
